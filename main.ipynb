{
 "cells": [
  {
   "cell_type": "code",
   "execution_count": 2,
   "metadata": {},
   "outputs": [],
   "source": [
    "import cv2\n",
    "import numpy as np\n",
    "import tkinter as tk\n",
    "from tkinter import ttk\n",
    "import glob\n",
    "import os"
   ]
  },
  {
   "cell_type": "code",
   "execution_count": 136,
   "metadata": {},
   "outputs": [],
   "source": [
    "path_dict = {}\n",
    "path = \"\"\n",
    "rect_bbox = None\n",
    "rect_endpoint_tmp = None\n",
    "bbox_list_rois = []\n",
    "bbox_list_roi_crop = None\n",
    "handle = None\n",
    "handle_cpy = None\n",
    "drawing = False"
   ]
  },
  {
   "cell_type": "code",
   "execution_count": 161,
   "metadata": {},
   "outputs": [],
   "source": [
    "def draw_rect(event, x, y, flags, param):\n",
    "        global rect_bbox, rect_endpoint_tmp, bbox_list_rois, bbox_list_roi_crop, drawing, handle, handle_cpy\n",
    "\n",
    "        if event == cv2.EVENT_LBUTTONDOWN:\n",
    "            rect_endpoint_tmp = None\n",
    "            rect_bbox = (x, y)\n",
    "            drawing = True\n",
    "\n",
    "        elif event == cv2.EVENT_LBUTTONUP:\n",
    "            drawing = False\n",
    "            \n",
    "            \n",
    "            \n",
    "            if selectionrd.get() == 1:\n",
    "                cv2.rectangle(handle_cpy, rect_bbox, rect_endpoint_tmp, color=(0, 0, 255), thickness=1)\n",
    "            elif selectionrd.get() == 2:\n",
    "                cv2.rectangle(handle_cpy, rect_bbox, rect_endpoint_tmp, color=(0, 255, 0), thickness=-1)\n",
    "                \n",
    "            cv2.imshow('image', handle_cpy)\n",
    "\n",
    "            p_1x, p_1y = rect_bbox\n",
    "            p_2x, p_2y = rect_endpoint_tmp\n",
    "\n",
    "            lx = min(p_1x, p_2x)\n",
    "            ty = min(p_1y, p_2y)\n",
    "            rx = max(p_1x, p_2x)\n",
    "            by = max(p_1y, p_2y)\n",
    "\n",
    "            if (lx, ty) != (rx, by):\n",
    "                bbox = [lx, ty, rx, by]\n",
    "                \n",
    "                if selectionrd.get() == 1:\n",
    "                    bbox_list_roi_crop = bbox\n",
    "                elif selectionrd.get() == 2:\n",
    "                    bbox_list_rois.append(bbox)\n",
    "\n",
    "        elif event == cv2.EVENT_MOUSEMOVE and drawing:\n",
    "            rect_endpoint_tmp = (x, y)"
   ]
  },
  {
   "cell_type": "code",
   "execution_count": 182,
   "metadata": {},
   "outputs": [],
   "source": [
    "def save_config():\n",
    "    global handle_cpy, bbox_list_roi_crop\n",
    "    \n",
    "    cv2.imshow(\"image2\", path_dict[path])\n",
    "    \n",
    "    if bbox_list_roi_crop is not None:\n",
    "        bb = bbox_list_roi_crop\n",
    "        handle_cpy = handle_cpy[bb[1]:bb[3], bb[0]:bb[2]]\n",
    "        bbox_list_roi_crop = None\n",
    "        \n",
    "    \n",
    "    path_dict[path] = handle_cpy\n",
    "    cv2.imshow(\"image3\", path_dict[path])"
   ]
  },
  {
   "cell_type": "code",
   "execution_count": 163,
   "metadata": {},
   "outputs": [],
   "source": [
    "def at_draw(fpath):\n",
    "        global rect_bbox, rect_endpoint_tmp, path_dict, handle_cpy, drawing, path\n",
    "    \n",
    "        path = fpath.get()\n",
    "    \n",
    "        if path != \"\" and path in path_dict:\n",
    "            handle = path_dict[path]            \n",
    "        elif path != \"\" and not path in path_dict:\n",
    "            handle = cv2.imread(path, cv2.IMREAD_COLOR)\n",
    "            path_dict[path] = handle\n",
    "        else:\n",
    "            return\n",
    "            \n",
    "        cv2.namedWindow('image')\n",
    "        cv2.setMouseCallback('image', draw_rect)\n",
    "        \n",
    "        handle_pure = handle.copy()\n",
    "        handle_cpy = handle_pure\n",
    "\n",
    "        while True:                \n",
    "    \n",
    "            if not drawing:\n",
    "                handle = handle_cpy\n",
    "                cv2.imshow('image', handle_cpy)\n",
    "            elif drawing and rect_endpoint_tmp:                           \n",
    "                \n",
    "                handle_cpy = handle.copy()\n",
    "                \n",
    "                if selectionrd.get() == 1:\n",
    "                    cv2.rectangle(handle_cpy, rect_bbox, rect_endpoint_tmp, (0,0,255), 1)\n",
    "                elif selectionrd.get() == 2:\n",
    "                    cv2.rectangle(handle_cpy, rect_bbox, rect_endpoint_tmp, (0,255,0), 1)\n",
    "                \n",
    "                cv2.imshow('image', handle_cpy)\n",
    "\n",
    "            key = cv2.waitKey(1) & 0xFF\n",
    "            # if the 'c' key is pressed, break from the loop\n",
    "            if key == ord('c'):\n",
    "                break\n",
    "        cv2.destroyAllWindows()"
   ]
  },
  {
   "cell_type": "code",
   "execution_count": 189,
   "metadata": {},
   "outputs": [],
   "source": [
    "global path_dict, bbox_list_rois, bbox_list_roi_crop\n",
    "path_dict = {}\n",
    "bbox_list_rois = []\n",
    "bbox_list_roi_crop = None\n",
    "\n",
    "included_extensions = ['jpg','jpeg', 'bmp', 'png', \"mp4\", \"avi\"]\n",
    "\n",
    "window = tk.Tk()\n",
    "\n",
    "selectioncmb = tk.StringVar()\n",
    "cmbbox = ttk.Combobox(window, textvariable=selectioncmb)\n",
    "\n",
    "cmbbox[\"values\"] = [fn for fn in os.listdir(\".\")\n",
    "                    if any(fn.endswith(ext) for ext in included_extensions)]\n",
    "\n",
    "selectionrd = tk.IntVar()\n",
    "values = {\"Crop\" : 1,\n",
    "          \"Draw\" : 2,}\n",
    "for (text, value) in values.items():\n",
    "    tk.Radiobutton(window, text = text, variable = selectionrd,\n",
    "                   value = value, indicator = 0,\n",
    "                   background = \"light blue\").pack()\n",
    "\n",
    "btnstart = ttk.Button(window, text=\"Start\",\n",
    "                      command=lambda: at_draw(selectioncmb)).pack()\n",
    "btnclear = ttk.Button(window, text=\"Save the Config\",\n",
    "                      command=lambda: save_config()).pack()\n",
    "\n",
    "cmbbox.pack()\n",
    "\n",
    "window.mainloop()\n",
    "\n"
   ]
  },
  {
   "cell_type": "code",
   "execution_count": 190,
   "metadata": {},
   "outputs": [
    {
     "name": "stdout",
     "output_type": "stream",
     "text": [
      "bb1 [[133, 131, 413, 370], [487, 144, 646, 359]]\n",
      "bb2 None\n"
     ]
    }
   ],
   "source": [
    "global bbox_list_rois, bbox_list_roi_crop\n",
    "print(\"bb1\", bbox_list_rois)\n",
    "print(\"bb2\", bbox_list_roi_crop)"
   ]
  },
  {
   "cell_type": "code",
   "execution_count": null,
   "metadata": {},
   "outputs": [],
   "source": [
    "Metamorphose"
   ]
  },
  {
   "cell_type": "code",
   "execution_count": 15,
   "metadata": {},
   "outputs": [
    {
     "name": "stdout",
     "output_type": "stream",
     "text": [
      "188 109\n",
      "411 293\n",
      "724 81\n"
     ]
    }
   ],
   "source": [
    "cv2.namedWindow(\"Metamorphose\")\n",
    "cv2.setMouseCallback(\"Metamorphose\", mouse_drawing)\n",
    "\n",
    "cap = cv2.VideoCapture('08_13_17.avi')\n",
    "\n",
    "# output = cv2.VideoWriter(\n",
    "#         \"output.avi\", cv2.VideoWriter_fourcc(*'MPEG'), \n",
    "#       30, (1080, 1920))\n",
    "\n",
    "# Check if camera opened successfully\n",
    "if (cap.isOpened()== False):\n",
    "\tprint(\"Error opening video file\")\n",
    "\n",
    "# Read until video is completed\n",
    "while(cap.isOpened()):\n",
    "\t\n",
    "# Capture frame-by-frame\n",
    "\tret, frame = cap.read()\n",
    "\tif ret == True:\n",
    "\t\n",
    "\t\tframe = frame[0:1000, 0:1000]\n",
    "\n",
    "\t\tcv2.imshow('Metamorphose', frame)\n",
    "\t\t\n",
    "        \n",
    "\t\t\n",
    "\t# Press Q on keyboard to exit\n",
    "\t\tif cv2.waitKey(25) & 0xFF == ord('q'):\n",
    "\t\t\tbreak\n",
    "\n",
    "# Break the loop\n",
    "\telse:\n",
    "\t\tbreak\n",
    "\n",
    "# When everything done, release\n",
    "# the video capture object\n",
    "cap.release()\n",
    "\n",
    "# Closes all the frames\n",
    "cv2.destroyAllWindows()\n"
   ]
  }
 ],
 "metadata": {
  "kernelspec": {
   "display_name": "Python 3",
   "language": "python",
   "name": "python3"
  },
  "language_info": {
   "codemirror_mode": {
    "name": "ipython",
    "version": 3
   },
   "file_extension": ".py",
   "mimetype": "text/x-python",
   "name": "python",
   "nbconvert_exporter": "python",
   "pygments_lexer": "ipython3",
   "version": "3.9.6"
  },
  "orig_nbformat": 4
 },
 "nbformat": 4,
 "nbformat_minor": 2
}
