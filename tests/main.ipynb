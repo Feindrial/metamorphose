{
 "cells": [
  {
   "cell_type": "code",
   "execution_count": 26,
   "metadata": {},
   "outputs": [
    {
     "data": {
      "text/plain": [
       "True"
      ]
     },
     "execution_count": 26,
     "metadata": {},
     "output_type": "execute_result"
    }
   ],
   "source": [
    "import cv2\n",
    "\n",
    "img = cv2.imread(\"C:\\\\Users\\\\Oto_Test2\\\\Desktop\\\\Metamorphose\\\\indir.jpg\", cv2.IMREAD_COLOR)\n",
    "#     cropped = img[start_row:end_row, start_col:end_col]\n",
    "img = img\n",
    "    \n",
    "cv2.imwrite(\"C:\\\\Users\\\\Oto_Test2\\\\Desktop\\\\Metamorphose\\\\indirout.jpg\", img)"
   ]
  },
  {
   "cell_type": "code",
   "execution_count": 33,
   "metadata": {},
   "outputs": [
    {
     "data": {
      "text/plain": [
       "[0, 1, 2, 3, 4, 5]"
      ]
     },
     "execution_count": 33,
     "metadata": {},
     "output_type": "execute_result"
    }
   ],
   "source": [
    "a = [1, 2, 3, 4, 5, 6]\n",
    "a.append(0)\n",
    "sorted(a)[:-1]"
   ]
  },
  {
   "cell_type": "code",
   "execution_count": 28,
   "metadata": {},
   "outputs": [
    {
     "data": {
      "text/plain": [
       "True"
      ]
     },
     "execution_count": 28,
     "metadata": {},
     "output_type": "execute_result"
    }
   ],
   "source": [
    "import numpy as np\n",
    "\n",
    "import cv2\n",
    "\n",
    "img = cv2.imread(\"C:\\\\Users\\\\Oto_Test2\\\\Desktop\\\\Metamorphose\\\\indir.jpg\", cv2.IMREAD_COLOR)\n",
    "\n",
    "a = np.empty(img.shape)\n",
    "a[:, :] = (0, 0, 0)\n",
    "\n",
    "img[:, :] = a\n",
    "\n",
    "cv2.rectangle(img, (15, 15), (100, 100), color=(0, 0, 255), thickness=-1)\n",
    "\n",
    "cv2.imwrite(\"C:\\\\Users\\\\Oto_Test2\\\\Desktop\\\\Metamorphose\\\\indirout.jpg\", img)"
   ]
  },
  {
   "cell_type": "code",
   "execution_count": 23,
   "metadata": {},
   "outputs": [
    {
     "name": "stdout",
     "output_type": "stream",
     "text": [
      "C:\\Users\\Oto_Test2\\Desktop\\Metamorphose\\Videos\\1\\class08_13_17\\\n",
      "C:\\Users\\Oto_Test2\\Desktop\\Metamorphose\\Videos\\1\\class08_13_17\\Train\\Label\\0.jpeg\n"
     ]
    }
   ],
   "source": [
    "import os\n",
    "from pathlib import Path\n",
    "\n",
    "p = \"C:\\\\Users\\\\Oto_Test2\\\\Desktop\\\\Metamorphose\\\\Videos\\\\1\\\\08_13_17.avi\"\n",
    "\n",
    "output_dir_name = \"class\"\n",
    "output_trname = \"Train\"\n",
    "output_tename = \"Test\"\n",
    "\n",
    "ofile_name = Path(p).stem\n",
    "odir_path = os.path.dirname(os.path.normpath(p)) + \"\\\\\" + output_dir_name + ofile_name + \"\\\\\"\n",
    "otraindir_path = odir_path + output_trname + \"\\\\\" + \"Label\\\\\" + str(0) + \".jpeg\"\n",
    "print(odir_path)\n",
    "print(otraindir_path)"
   ]
  },
  {
   "cell_type": "code",
   "execution_count": 26,
   "metadata": {},
   "outputs": [
    {
     "name": "stdout",
     "output_type": "stream",
     "text": [
      "ASDSADASD\n"
     ]
    }
   ],
   "source": [
    "if os.path.isdir(\"C:\\\\Users\\\\Oto_Test2\\\\Desktop\\\\Metamorphose\\\\Videos\\\\1\\\\class08_13_17\"):\n",
    "    print(\"ASDSADASD\")"
   ]
  },
  {
   "cell_type": "code",
   "execution_count": 16,
   "metadata": {},
   "outputs": [],
   "source": [
    "fcounter = 0       \n",
    "quited = False\n",
    "paused = False"
   ]
  },
  {
   "cell_type": "code",
   "execution_count": 10,
   "metadata": {},
   "outputs": [],
   "source": [
    "def process_video_action(key):\n",
    "    global fcounter, quited, paused\n",
    "    \n",
    "    if key == ord('q'):\n",
    "        quited = True\n",
    "    elif key == ord('p'):\n",
    "        paused = not paused        \n",
    "    elif key == ord('r'):\n",
    "        paused = True\n",
    "        fcounter -= 1\n",
    "    elif key == ord('f'):\n",
    "        paused = True\n",
    "        fcounter += 1"
   ]
  },
  {
   "cell_type": "code",
   "execution_count": null,
   "metadata": {},
   "outputs": [],
   "source": []
  },
  {
   "cell_type": "code",
   "execution_count": 23,
   "metadata": {},
   "outputs": [],
   "source": [
    "global fcounter, quited, paused\n",
    "\n",
    "import cv2\n",
    "\n",
    "cap = cv2.VideoCapture(\"C:\\\\Users\\\\Oto_Test2\\\\Desktop\\\\Metamorphose\\\\Videos\\\\1\\\\08_13_17.avi\")\n",
    "\n",
    "fcounter = 0\n",
    "quited = False\n",
    "paused = False\n",
    "while cap.isOpened():\n",
    "    \n",
    "    if quited:\n",
    "        break\n",
    "    elif paused:\n",
    "        fcounter -= 1\n",
    "    \n",
    "    \n",
    "    ret, frame = cap.read()\n",
    "    \n",
    "    cap.set(cv2.CAP_PROP_POS_FRAMES, fcounter)\n",
    "            \n",
    "    if not ret:\n",
    "        break\n",
    "\n",
    "    cv2.imshow(\"MetamophoseXXXX\", frame)\n",
    "    \n",
    "    key = cv2.waitKey(1) & 0xFF\n",
    "    process_video_action(key)\n",
    "    \n",
    "    fcounter += 1\n",
    "    \n",
    "cap.release()\n",
    "cv2.destroyAllWindows()"
   ]
  },
  {
   "cell_type": "code",
   "execution_count": 25,
   "metadata": {},
   "outputs": [
    {
     "name": "stdout",
     "output_type": "stream",
     "text": [
      "500 609 98 258\n"
     ]
    }
   ],
   "source": [
    "xy1 = (609, 98)\n",
    "xy2 = (500, 258)\n",
    "\n",
    "x_min = min(xy1[0], xy2[0])\n",
    "x_max = max(xy1[0], xy2[0])\n",
    "y_min = min(xy1[1], xy2[1])\n",
    "y_max = max(xy1[1], xy2[1])\n",
    "\n",
    "print(x_min, x_max, y_min, y_max)"
   ]
  },
  {
   "cell_type": "code",
   "execution_count": 3,
   "metadata": {},
   "outputs": [],
   "source": [
    "import cv2\n",
    "import numpy as np\n",
    "import tkinter as tk\n",
    "from tkinter import ttk\n",
    "import glob\n",
    "import os"
   ]
  },
  {
   "cell_type": "code",
   "execution_count": 162,
   "metadata": {},
   "outputs": [],
   "source": [
    "class FolderDesc:\n",
    "    def __init__(self, path):        \n",
    "        self.pure_handle = None\n",
    "        self.handle = None\n",
    "        self.open_handle = None\n",
    "        self.crop_handle = None\n",
    "        #self.is_crop_in_wait = False\n",
    "        self.save_in_wait = False\n",
    "        self.old_crop_index = -1\n",
    "        self.crop_index = -1\n",
    "        self.old_hist_index = 0\n",
    "        self.hist_index = 0\n",
    "        \n",
    "        self.bbox_rois_list = []\n",
    "        self.bbox_roi_crop = None\n",
    "        \n",
    "        self.pure_handle = cv2.imread(path, cv2.IMREAD_COLOR)\n",
    "        self.handle = self.pure_handle.copy()\n",
    "        self.open_handle = self.pure_handle.copy()\n",
    "        self.crop_handle = self.pure_handle.copy()\n",
    "        \n",
    "    def open(self):\n",
    "        self.hist_index = len(self.bbox_rois_list)\n",
    "        \n",
    "    def save_config(self):\n",
    "        self.old_hist_index = self.hist_index\n",
    "        self.old_crop_index = self.crop_index\n",
    "        self.handle = self.open_handle.copy()\n",
    "        self.save_in_wait = False\n",
    "        print(\"---AT SAVE CONFIG---\")\n",
    "        print(self.bbox_rois_list)\n",
    "        print(\"crop\", self.crop_index) \n",
    "        print(\"oldhist\", self.old_hist_index) \n",
    "        print(\"hist\", self.hist_index)               \n",
    "                \n",
    "    def draw_rectangle(self, point1, point2, color=(0, 255, 0), fill=False, crop=False):\n",
    "        print(\"---AT draw_rectangle BEGUNNING---\")\n",
    "        print(\"crop\", self.crop_index) \n",
    "        print(\"oldhist\", self.old_hist_index) \n",
    "        print(\"hist\", self.hist_index) \n",
    "        if crop:\n",
    "            if self.crop_index != -1: \n",
    "                self.revert_crop()              \n",
    "                self.bbox_rois_list.pop(self.crop_index)\n",
    "                \n",
    "                # if self.crop_index < self.old_hist_index - 1:\n",
    "                #     self.old_hist_index -= 1 \n",
    "                # if self.crop_index < self.hist_index:\n",
    "                #     self.hist_index -= 1 \n",
    "              \n",
    "            self.crop_index = len(self.bbox_rois_list)\n",
    "                                    \n",
    "        self.bbox_rois_list.append((point1, point2))\n",
    "        \n",
    "        if fill:\n",
    "            fill = -1\n",
    "        else:\n",
    "            fill = 1     \n",
    "            \n",
    "        self.hist_index += 1\n",
    "        self.save_in_wait = True \n",
    "        \n",
    "        print(\"---AT draw_rectangle ENDDDDDDDD---\")\n",
    "        print(\"crop\", self.crop_index) \n",
    "        print(\"oldhist\", self.old_hist_index) \n",
    "        print(\"hist\", self.hist_index)           \n",
    "            \n",
    "        cv2.rectangle(self.open_handle, point1, point2, color, thickness=fill)\n",
    "        if not crop:\n",
    "            cv2.rectangle(self.crop_handle, point1, point2, color, thickness=fill)        \n",
    "                \n",
    "    def revert_crop(self):\n",
    "        self.open_handle = self.crop_handle.copy()\n",
    "        \n",
    "    def revert_changes(self):\n",
    "        self.save_in_wait = False\n",
    "        print(\"---AT REVERT CHANGES BEGUNNING---\")\n",
    "        print(\"crop\", self.crop_index) \n",
    "        print(\"oldhist\", self.old_hist_index) \n",
    "        print(\"hist\", self.hist_index) \n",
    "        print(\"LEEEEEEEEEEEEEEEEEEEEEEN\") \n",
    "        print(len(self.bbox_rois_list)) \n",
    "        print(\"LEEEEEEEEEEEEEEEEEEEEEEN\")\n",
    "        if self.crop_index >= self.old_hist_index and self.crop_index < self.hist_index:\n",
    "            self.crop_index = self.old_crop_index\n",
    "            \n",
    "        \n",
    "        del self.bbox_rois_list[self.old_hist_index:self.hist_index]\n",
    "        \n",
    "        self.open_handle = self.handle.copy()\n",
    "        self.crop_handle = self.pure_handle.copy()\n",
    "        for i in range(self.old_hist_index):\n",
    "            if i == self.crop_index:\n",
    "                continue\n",
    "            \n",
    "            (p1, p2) = self.bbox_rois_list[i]\n",
    "            cv2.rectangle(self.crop_handle, p1, p2, color=(0, 255, 0), thickness=-1)\n",
    "            \n",
    "        self.hist_index = self.old_hist_index\n",
    "        print(\"---AT REVERT CHANGES---\")\n",
    "        print(self.bbox_rois_list)\n",
    "        print(\"crop\", self.crop_index) \n",
    "        print(\"oldhist\", self.old_hist_index) \n",
    "        print(\"hist\", self.hist_index) \n",
    "        \n",
    "    def draw(self):        \n",
    "        cv2.imshow(\"Metamorphose\", self.open_handle)"
   ]
  },
  {
   "cell_type": "code",
   "execution_count": 42,
   "metadata": {},
   "outputs": [],
   "source": [
    "path_dict = {}\n",
    "path = \"\"\n",
    "rect_bbox = None\n",
    "rect_endpoint_tmp = None\n",
    "bbox_list_rois = []\n",
    "bbox_list_roi_crop = None\n",
    "handle = None\n",
    "handle_cpy = None\n",
    "drawing = False"
   ]
  },
  {
   "cell_type": "code",
   "execution_count": 40,
   "metadata": {},
   "outputs": [],
   "source": [
    "def mouse_event(event, x, y, flags, param):\n",
    "    global rect_bbox, rect_endpoint_tmp, drawing\n",
    "    \n",
    "    fldsc = param\n",
    "    \n",
    "    if event == cv2.EVENT_LBUTTONDOWN:\n",
    "        rect_endpoint_tmp = None\n",
    "        rect_bbox = (x, y)\n",
    "        drawing = True\n",
    "    elif event == cv2.EVENT_LBUTTONUP:\n",
    "        rect_endpoint_tmp = (x, y)\n",
    "        drawing = False                        \n",
    "            \n",
    "        if selectionrd.get() == 1:      \n",
    "            fldsc.draw_rectangle(rect_bbox, rect_endpoint_tmp, color=(0, 0, 255), crop=True)  \n",
    "        elif selectionrd.get() == 2:\n",
    "            fldsc.draw_rectangle(rect_bbox, rect_endpoint_tmp, color=(0, 255, 0), fill=True)\n",
    "                \n",
    "        fldsc.draw()\n",
    "    elif event == cv2.EVENT_MOUSEMOVE and drawing:\n",
    "        rect_endpoint_tmp = (x, y)"
   ]
  },
  {
   "cell_type": "code",
   "execution_count": 161,
   "metadata": {},
   "outputs": [],
   "source": [
    "def draw_rect(event, x, y, flags, param):\n",
    "        global rect_bbox, rect_endpoint_tmp, bbox_list_rois, bbox_list_roi_crop, drawing, handle, handle_cpy\n",
    "\n",
    "        if event == cv2.EVENT_LBUTTONDOWN:\n",
    "            rect_endpoint_tmp = None\n",
    "            rect_bbox = (x, y)\n",
    "            drawing = True\n",
    "\n",
    "        elif event == cv2.EVENT_LBUTTONUP:\n",
    "            drawing = False\n",
    "            \n",
    "            \n",
    "            \n",
    "            if selectionrd.get() == 1:\n",
    "                cv2.rectangle(handle_cpy, rect_bbox, rect_endpoint_tmp, color=(0, 0, 255), thickness=1)\n",
    "            elif selectionrd.get() == 2:\n",
    "                cv2.rectangle(handle_cpy, rect_bbox, rect_endpoint_tmp, color=(0, 255, 0), thickness=-1)\n",
    "                \n",
    "            cv2.imshow('image', handle_cpy)\n",
    "\n",
    "            p_1x, p_1y = rect_bbox\n",
    "            p_2x, p_2y = rect_endpoint_tmp\n",
    "\n",
    "            lx = min(p_1x, p_2x)\n",
    "            ty = min(p_1y, p_2y)\n",
    "            rx = max(p_1x, p_2x)\n",
    "            by = max(p_1y, p_2y)\n",
    "\n",
    "            if (lx, ty) != (rx, by):\n",
    "                bbox = [lx, ty, rx, by]\n",
    "                \n",
    "                if selectionrd.get() == 1:\n",
    "                    bbox_list_roi_crop = bbox\n",
    "                elif selectionrd.get() == 2:\n",
    "                    bbox_list_rois.append(bbox)\n",
    "\n",
    "        elif event == cv2.EVENT_MOUSEMOVE and drawing:\n",
    "            rect_endpoint_tmp = (x, y)"
   ]
  },
  {
   "cell_type": "code",
   "execution_count": 39,
   "metadata": {},
   "outputs": [],
   "source": [
    "def save_config(fpath):\n",
    "    path = fpath.get()  \n",
    "    path_dict[path].save_config()"
   ]
  },
  {
   "cell_type": "code",
   "execution_count": 113,
   "metadata": {},
   "outputs": [],
   "source": [
    "def at_draw(fpath):\n",
    "        global rect_bbox, rect_endpoint_tmp, path_dict, handle_cpy, drawing, path\n",
    "    \n",
    "        path = fpath.get()\n",
    "    \n",
    "        if path != \"\" and path in path_dict:\n",
    "            fldsc = path_dict[path]           \n",
    "        elif path != \"\" and not path in path_dict:\n",
    "            fldsc = FolderDesc(path)            \n",
    "            path_dict[path] = fldsc            \n",
    "        else:\n",
    "            return\n",
    "        \n",
    "        fldsc.open()\n",
    "        for key in path_dict:\n",
    "            if path_dict[key].save_in_wait: \n",
    "                path_dict[key].revert_changes()\n",
    "            \n",
    "        cv2.namedWindow('Metamorphose')\n",
    "        cv2.setMouseCallback('Metamorphose', mouse_event, param=fldsc)\n",
    "        \n",
    "\n",
    "        while True:                \n",
    "    \n",
    "            if not drawing:\n",
    "                fldsc.draw()\n",
    "            elif drawing and rect_endpoint_tmp:                           \n",
    "                \n",
    "                handle_cpy = fldsc.open_handle.copy()\n",
    "                \n",
    "                if selectionrd.get() == 1:\n",
    "                    cv2.rectangle(handle_cpy, rect_bbox, rect_endpoint_tmp, (0, 0, 255), 1)\n",
    "                elif selectionrd.get() == 2:\n",
    "                    cv2.rectangle(handle_cpy, rect_bbox, rect_endpoint_tmp, (0, 255, 0), 1)\n",
    "                \n",
    "                cv2.imshow('Metamorphose', handle_cpy)\n",
    "\n",
    "            key = cv2.waitKey(1) & 0xFF\n",
    "            # if the 'c' key is pressed, break from the loop\n",
    "            if key == ord('c'):\n",
    "                break\n",
    "            \n",
    "        cv2.destroyAllWindows()        "
   ]
  },
  {
   "cell_type": "code",
   "execution_count": null,
   "metadata": {},
   "outputs": [],
   "source": [
    "global path_dict, bbox_list_rois, bbox_list_roi_crop\n",
    "path_dict = {}\n",
    "bbox_list_rois = []\n",
    "bbox_list_roi_crop = None\n",
    "\n",
    "included_extensions = ['jpg','jpeg', 'bmp', 'png', \"mp4\", \"avi\"]\n",
    "\n",
    "window = tk.Tk()\n",
    "\n",
    "selectioncmb = tk.StringVar()\n",
    "cmbbox = ttk.Combobox(window, textvariable=selectioncmb)\n",
    "\n",
    "cmbbox[\"values\"] = [fn for fn in os.listdir(\".\")\n",
    "                    if any(fn.endswith(ext) for ext in included_extensions)]\n",
    "\n",
    "selectionrd = tk.IntVar()\n",
    "values = {\"Crop\" : 1,\n",
    "          \"Draw\" : 2,}\n",
    "for (text, value) in values.items():\n",
    "    tk.Radiobutton(window, text = text, variable = selectionrd,\n",
    "                   value = value, indicator = 0,\n",
    "                   background = \"light blue\").pack()\n",
    "\n",
    "btnstart = ttk.Button(window, text=\"Start\",\n",
    "                      command=lambda: at_draw(selectioncmb)).pack()\n",
    "btnclear = ttk.Button(window, text=\"Save the Config\",\n",
    "                      command=lambda: save_config(selectioncmb)).pack()\n",
    "\n",
    "cmbbox.pack()\n",
    "\n",
    "window.mainloop()\n",
    "\n"
   ]
  },
  {
   "cell_type": "code",
   "execution_count": 7,
   "metadata": {},
   "outputs": [
    {
     "data": {
      "text/plain": [
       "(['08_13_17.avi'],)"
      ]
     },
     "execution_count": 7,
     "metadata": {},
     "output_type": "execute_result"
    },
    {
     "ename": "",
     "evalue": "",
     "output_type": "error",
     "traceback": [
      "\u001b[1;31mThe Kernel crashed while executing code in the the current cell or a previous cell. Please review the code in the cell(s) to identify a possible cause of the failure. Click <a href='https://aka.ms/vscodeJupyterKernelCrash'>here</a> for more info. View Jupyter <a href='command:jupyter.viewOutput'>log</a> for further details."
     ]
    }
   ],
   "source": [
    "import os\n",
    "import tkinter\n",
    "from tkinter import filedialog\n",
    "\n",
    "\n",
    "# tkinter.Tk().withdraw() # prevents an empty tkinter window from appearing\n",
    "\n",
    "folder_path = filedialog.askdirectory()\n",
    "folder_path\n",
    "\n",
    "tuple([x[2] for x in os.walk(folder_path)])\n"
   ]
  },
  {
   "cell_type": "code",
   "execution_count": 190,
   "metadata": {},
   "outputs": [
    {
     "name": "stdout",
     "output_type": "stream",
     "text": [
      "bb1 [[133, 131, 413, 370], [487, 144, 646, 359]]\n",
      "bb2 None\n"
     ]
    }
   ],
   "source": [
    "global bbox_list_rois, bbox_list_roi_crop\n",
    "print(\"bb1\", bbox_list_rois)\n",
    "print(\"bb2\", bbox_list_roi_crop)"
   ]
  },
  {
   "cell_type": "code",
   "execution_count": null,
   "metadata": {},
   "outputs": [],
   "source": [
    "Metamorphose"
   ]
  },
  {
   "cell_type": "code",
   "execution_count": 15,
   "metadata": {},
   "outputs": [
    {
     "name": "stdout",
     "output_type": "stream",
     "text": [
      "188 109\n",
      "411 293\n",
      "724 81\n"
     ]
    }
   ],
   "source": [
    "cv2.namedWindow(\"Metamorphose\")\n",
    "cv2.setMouseCallback(\"Metamorphose\", mouse_drawing)\n",
    "\n",
    "cap = cv2.VideoCapture('08_13_17.avi')\n",
    "\n",
    "# output = cv2.VideoWriter(\n",
    "#         \"output.avi\", cv2.VideoWriter_fourcc(*'MPEG'), \n",
    "#       30, (1080, 1920))\n",
    "\n",
    "# Check if camera opened successfully\n",
    "if (cap.isOpened()== False):\n",
    "\tprint(\"Error opening video file\")\n",
    "\n",
    "# Read until video is completed\n",
    "while(cap.isOpened()):\n",
    "\t\n",
    "# Capture frame-by-frame\n",
    "\tret, frame = cap.read()\n",
    "\tif ret == True:\n",
    "\t\n",
    "\t\tframe = frame[0:1000, 0:1000]\n",
    "\n",
    "\t\tcv2.imshow('Metamorphose', frame)\n",
    "\t\t\n",
    "        \n",
    "\t\t\n",
    "\t# Press Q on keyboard to exit\n",
    "\t\tif cv2.waitKey(25) & 0xFF == ord('q'):\n",
    "\t\t\tbreak\n",
    "\n",
    "# Break the loop\n",
    "\telse:\n",
    "\t\tbreak\n",
    "\n",
    "# When everything done, release\n",
    "# the video capture object\n",
    "cap.release()\n",
    "\n",
    "# Closes all the frames\n",
    "cv2.destroyAllWindows()\n"
   ]
  }
 ],
 "metadata": {
  "kernelspec": {
   "display_name": "Python 3",
   "language": "python",
   "name": "python3"
  },
  "language_info": {
   "codemirror_mode": {
    "name": "ipython",
    "version": 3
   },
   "file_extension": ".py",
   "mimetype": "text/x-python",
   "name": "python",
   "nbconvert_exporter": "python",
   "pygments_lexer": "ipython3",
   "version": "3.9.6"
  },
  "orig_nbformat": 4
 },
 "nbformat": 4,
 "nbformat_minor": 2
}
